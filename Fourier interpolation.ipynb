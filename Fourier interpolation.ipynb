{
 "cells": [
  {
   "cell_type": "markdown",
   "metadata": {},
   "source": [
    "# Quantum Fourier interpolation"
   ]
  },
  {
   "cell_type": "markdown",
   "metadata": {},
   "source": [
    "In numerical analysis we quite often have to work with discretized versions of functions, because we do not have any other much simpler exact representation. Note that \"function\" is a very loose concept: it can be the solution to a differential equation, or a recording of a sound, or an image."
   ]
  },
  {
   "cell_type": "markdown",
   "metadata": {},
   "source": [
    "When working with these discretized functions, we often need to find another representation of the same function, using a higher resolution. This is called *interpolation*. [Remember those CSI films](https://www.youtube.com/watch?v=I_8ZH1Ggjk0), with \"enhance, zoom, detail!\" and how they could pop up the face of any subject out of a very crappy picture?"
   ]
  },
  {
   "cell_type": "markdown",
   "metadata": {},
   "source": [
    "In this notebook we will develop a strategy for interpolation based on the Fourier transform. This strategy is analogous to the one developed by Nyquist and Shannon, on which is based much of today's sound systems. As you may have guessed, because the quantum computer has an algorithm called the Quantum Fourier Transform, we will be able to do that interpolation with fewer resources than a classical computer."
   ]
  },
  {
   "cell_type": "markdown",
   "metadata": {},
   "source": [
    "## Auxiliary code"
   ]
  },
  {
   "cell_type": "markdown",
   "metadata": {},
   "source": [
    "We load the subsets of numpy and qiskit that we need."
   ]
  },
  {
   "cell_type": "code",
   "execution_count": 1,
   "metadata": {},
   "outputs": [],
   "source": [
    "import numpy as np\n",
    "import numpy.fft\n",
    "import matplotlib.pyplot as plt\n",
    "from qiskit.aqua.circuits import StateVectorCircuit\n",
    "from qiskit.circuit.library import QFT, Barrier\n",
    "from qiskit import QuantumCircuit, QuantumRegister, execute, Aer"
   ]
  },
  {
   "cell_type": "markdown",
   "metadata": {},
   "source": [
    "This function takes a vector $f$ and returns $\\frac{1}{\\sqrt{C}}f,$ where $C=\\sum_n |f_n|^2.$"
   ]
  },
  {
   "cell_type": "code",
   "execution_count": 2,
   "metadata": {},
   "outputs": [],
   "source": [
    "def normalize(ψ):\n",
    "    n = np.linalg.norm(ψ)\n",
    "    return ψ if n == 0 else ψ / n"
   ]
  },
  {
   "cell_type": "markdown",
   "metadata": {},
   "source": [
    "This function takes a quantum circuit and executes it in Qiskit's quantum simulator, recovering  a vector $(f_0,f_1,\\ldots)$ with all elements of the wavefunction $U|00\\ldots\\rangle = \\sum_n f_n |n\\rangle,$ sorted by all integers $n$ that can be encoded in the quantum register."
   ]
  },
  {
   "cell_type": "code",
   "execution_count": 3,
   "metadata": {},
   "outputs": [],
   "source": [
    "def wavefunction(circuit):\n",
    "    backend = Aer.get_backend('statevector_simulator')\n",
    "    return execute(circuit.copy(), backend).result().get_statevector()"
   ]
  },
  {
   "cell_type": "markdown",
   "metadata": {},
   "source": [
    "## Classical Fourier transforms"
   ]
  },
  {
   "cell_type": "markdown",
   "metadata": {},
   "source": [
    "### a) The Fourier transform"
   ]
  },
  {
   "cell_type": "markdown",
   "metadata": {},
   "source": [
    "As mentioned above, we work with functions $f(x)$ that have been discretized over a regular grid of equispaced points. We call $\\Delta x$ the spacing, $N$ is the number of points and the coordinates of the grid start at $x=a$ and end at $x=b,$ with total length $L=|b-a|$. Mathematically, we write this as follows\n",
    "$$x_n = a + n\\Delta x,\\; \\Delta x = \\frac{|b-a|}{N}=\\frac{L}{N},\\;0 \\leq n < N.$$"
   ]
  },
  {
   "cell_type": "markdown",
   "metadata": {},
   "source": [
    "Instead of working with the original function, we can work with the vector that contains all its values $\\vec{f}=(f(x_0),f(x_1),\\ldots,f(x_{N-1})).$ The discrete Fourier transform is an alternative representation, that reconstructs the values of $\\vec{f}$ from a combination of trigonometric functions\n",
    "$$f(x_n) = \\frac{1}{\\sqrt{N}}\\sum_{m=0}^{N-1} \\tilde{f}_m e^{i k_m x_n},$$\n",
    "with momenta (or frequencies)\n",
    "$$k_m = \\frac{2\\pi}{L}\\times m,\\; 0 \\leq m < N.$$"
   ]
  },
  {
   "cell_type": "markdown",
   "metadata": {},
   "source": [
    "The Fourier transform is the mathematical operation that reconstructs the coefficients $\\tilde{f}_m$ of this expansion using the values of the discretized function $f_n=f(x_n)$\n",
    "$$(F\\vec{f})_m = \\sum_n \\frac{1}{\\sqrt{N}}e^{-i k_m (x_n-a)} f_n = \\sum_n \\frac{1}{\\sqrt{N}}\\exp\\left(-i 2\\pi \\frac{m n}{N}\\right) f_n,$$"
   ]
  },
  {
   "cell_type": "markdown",
   "metadata": {},
   "source": [
    "### b) Allowed momenta"
   ]
  },
  {
   "cell_type": "markdown",
   "metadata": {},
   "source": [
    "The choice of momenta that we introduced above is mathematically rigorous, but it is a bit inconvenient. From this notation, it would seem that $k_{N-1}$ is the most rapidly oscillating plane wave, but this is not true in the lattice that we have designed."
   ]
  },
  {
   "cell_type": "markdown",
   "metadata": {},
   "source": [
    "On the discretized lattice, $k_{N-1}$ produces the same oscillations as $-2\\pi/L,$ which is equivalent to $-k_1.$ For this reason, it is convenient to keep in mind that the values $k_m$ can be reinterpreted as a set of positive and negative momenta, given by\n",
    "$$k_m' \\in \\left\\{0,\\ldots,+2\\pi\\frac{[(N-1)/2]_0}{L},-2\\pi\\frac{[N/2]_0}{L},\\ldots,-2\\pi\\frac{1}{L}\\right\\},$$\n",
    "where $[x]_0$ means truncate the real number $x$ towards zero. This also makes sense because the new basis of wavefunctions, with positive and negative momenta, correspond to the Fourier modes that we would find when expanding $f(x)$ in the infinite domain limit $L\\to\\infty.$"
   ]
  },
  {
   "cell_type": "markdown",
   "metadata": {},
   "source": [
    "This reinterpretation has no consequences on the momentum states. Note that we can write\n",
    "$$k_m = k_m'\\,\\mathrm{mod}\\,\\frac{2\\pi N}{L}$$\n",
    "which implies that both intepretation produce the same functions\n",
    "$$\\exp\\left(i k_m (x_n-a)\\right) = \\exp\\left[i \\left(k_m'+2\\pi \\frac{z}{\\Delta x}\\right) n \\Delta{x}\\right]\n",
    "= \\exp\\left(i  k_m' \\Delta{x} n+ i 2\\pi z\\right).$$"
   ]
  },
  {
   "cell_type": "markdown",
   "metadata": {},
   "source": [
    "## Quantum Fourier transform"
   ]
  },
  {
   "cell_type": "markdown",
   "metadata": {},
   "source": [
    "### a) Encoding discretized functions in states"
   ]
  },
  {
   "cell_type": "markdown",
   "metadata": {},
   "source": [
    "If we have a discretized function $f(x_n)$ we can store it in a quantum state, as\n",
    "$$|f\\rangle = \\frac{1}{\\sqrt{C}} \\sum_n f(x_n) |n\\rangle. $$\n",
    "Here $|n\\rangle$ is the state of the quantum register that encodes the integer $n \\in [0,N-1]$, and $C$ is a normalization factor\n",
    "$$C = \\sum_m |f(x_m)|^2.$$"
   ]
  },
  {
   "cell_type": "markdown",
   "metadata": {},
   "source": [
    "**Exercise 1**"
   ]
  },
  {
   "cell_type": "markdown",
   "metadata": {},
   "source": [
    "In Qiskit, there is a class called [`StateVectorCircuit`](https://qiskit.org/documentation/stubs/qiskit.aqua.circuits.StateVectorCircuit.html) that takes a discretized function with $2^l$ components and returns a quantum circuit that implements it. To be more precise, this function constructs a circuit $U$ such that\n",
    "$$U|00\\ldots\\rangle = \\sum f(q_l 2^{l-1} + \\ldots + q_1 2 + q_0) |q_{l-1}\\ldots q_1 q_l\\rangle.$$\n",
    "The index $n$ in the lattice is decomposed as a binary number $[q_{l-1}\\cdots q_1q_0]$ where the last qubit $q_{l-1}$ is the most significant bit."
   ]
  },
  {
   "cell_type": "markdown",
   "metadata": {},
   "source": [
    "The following function returns the circuit for a Gaussian function over a finite interval and plots both the original function, and the one generated by the circuit:"
   ]
  },
  {
   "cell_type": "code",
   "execution_count": 4,
   "metadata": {},
   "outputs": [
    {
     "data": {
      "image/png": "[encoded data removed]",
      "text/plain": [
       "<Figure size 576x288 with 1 Axes>"
      ]
     },
     "metadata": {
      "needs_background": "light"
     },
     "output_type": "display_data"
    }
   ],
   "source": [
    "def exercise1():\n",
    "    \n",
    "    l = 4 # Number of qubits\n",
    "    N = 2**l\n",
    "    L = 8\n",
    "    Δx = L/N\n",
    "    x = -L/2 + Δx * np.arange(N)\n",
    "    #\n",
    "    # Discretize our function, and normalize it to turn it into a\n",
    "    # quantum state\n",
    "    f = normalize(np.exp(-x**2/2.0))\n",
    "    #\n",
    "    # Use Qiskit to build a quantum circuit that constructs the\n",
    "    # quantum state associated to the discretize function 'f'\n",
    "    f_qc = StateVectorCircuit(f).construct_circuit()\n",
    "    \n",
    "    fig, ax = plt.subplots(nrows=1,ncols=1,figsize=(8,4))\n",
    "    ax.plot(x, f, '-')\n",
    "    ax.plot(x, np.abs(wavefunction(f_qc)), '.')\n",
    "    ax.set_title(f'$f$ with $N={N}$')\n",
    "    \n",
    "exercise1()"
   ]
  },
  {
   "cell_type": "markdown",
   "metadata": {},
   "source": [
    "Print and inspect the complexity of those circuits for other functions and other grid sizes $N$ or $L$."
   ]
  },
  {
   "cell_type": "markdown",
   "metadata": {},
   "source": [
    "### b) Quantum Fourier Transform (QFT)"
   ]
  },
  {
   "cell_type": "markdown",
   "metadata": {},
   "source": [
    "There exists a quantum algorithm that, given an encoded state $|f\\rangle,$ creates the encoded state for the Fourier transform $|\\tilde{f}\\rangle. $"
   ]
  },
  {
   "cell_type": "markdown",
   "metadata": {},
   "source": [
    "This algorithm is represented by the operator (circuit) F,\n",
    "$$F|f\\rangle = \\frac{1}{\\sqrt{C}}\\sum_{m=0}^{N-1} \\tilde{f}_m|m\\rangle,$$\n",
    "with the new coefficients being\n",
    "$$\\tilde{f}_m = \\frac{1}{\\sqrt{N}} \\sum_{n=0}^{N-1} \\exp(i2\\pi n m /N)f_n.$$"
   ]
  },
  {
   "cell_type": "markdown",
   "metadata": {},
   "source": [
    "The Qiskit library has a function, called [QFT](https://qiskit.org/documentation/stubs/qiskit.circuit.library.QFT.html) that implements the circuit for a Quantum Fourier Transform."
   ]
  },
  {
   "cell_type": "code",
   "execution_count": 5,
   "metadata": {},
   "outputs": [
    {
     "data": {
      "text/html": [
       "<pre style=\"word-wrap: normal;white-space: pre;background: #fff0;line-height: 1.1;font-family: &quot;Courier New&quot;,Courier,monospace\">     ┌───┐               ░              ░       ░    \n",
       "q_0: ┤ H ├─■──────■──────░──────────────░───────░──X─\n",
       "     └───┘ │pi/2  │      ░ ┌───┐        ░       ░  │ \n",
       "q_1: ──────■──────┼──────░─┤ H ├─■──────░───────░──┼─\n",
       "                  │pi/4  ░ └───┘ │pi/2  ░ ┌───┐ ░  │ \n",
       "q_2: ─────────────■──────░───────■──────░─┤ H ├─░──X─\n",
       "                         ░              ░ └───┘ ░    </pre>"
      ],
      "text/plain": [
       "     ┌───┐               ░              ░       ░    \n",
       "q_0: ┤ H ├─■──────■──────░──────────────░───────░──X─\n",
       "     └───┘ │pi/2  │      ░ ┌───┐        ░       ░  │ \n",
       "q_1: ──────■──────┼──────░─┤ H ├─■──────░───────░──┼─\n",
       "                  │pi/4  ░ └───┘ │pi/2  ░ ┌───┐ ░  │ \n",
       "q_2: ─────────────■──────░───────■──────░─┤ H ├─░──X─\n",
       "                         ░              ░ └───┘ ░    "
      ]
     },
     "execution_count": 5,
     "metadata": {},
     "output_type": "execute_result"
    }
   ],
   "source": [
    "from qiskit.circuit.library import QFT\n",
    "\n",
    "QFT(3, insert_barriers=True).draw()"
   ]
  },
  {
   "cell_type": "markdown",
   "metadata": {},
   "source": [
    "The problem with this function is that it is assuming $q_0$ is the most significant bit. We can fix it with our own function:"
   ]
  },
  {
   "cell_type": "code",
   "execution_count": 6,
   "metadata": {},
   "outputs": [],
   "source": [
    "def fQFT(nqubits, **kwdargs):\n",
    "    circuit = QuantumCircuit(nqubits)\n",
    "    return circuit.compose(QFT(nqubits, **kwdargs), qubits=list(reversed(range(0,nqubits))))"
   ]
  },
  {
   "cell_type": "code",
   "execution_count": 7,
   "metadata": {},
   "outputs": [
    {
     "data": {
      "text/html": [
       "<pre style=\"word-wrap: normal;white-space: pre;background: #fff0;line-height: 1.1;font-family: &quot;Courier New&quot;,Courier,monospace\">                                    ┌───┐   \n",
       "q_0: ─────────────■───────────■─────┤ H ├─X─\n",
       "                  │     ┌───┐ │pi/2 └───┘ │ \n",
       "q_1: ──────■──────┼─────┤ H ├─■───────────┼─\n",
       "     ┌───┐ │pi/2  │pi/4 └───┘             │ \n",
       "q_2: ┤ H ├─■──────■───────────────────────X─\n",
       "     └───┘                                  </pre>"
      ],
      "text/plain": [
       "                                    ┌───┐   \n",
       "q_0: ─────────────■───────────■─────┤ H ├─X─\n",
       "                  │     ┌───┐ │pi/2 └───┘ │ \n",
       "q_1: ──────■──────┼─────┤ H ├─■───────────┼─\n",
       "     ┌───┐ │pi/2  │pi/4 └───┘             │ \n",
       "q_2: ┤ H ├─■──────■───────────────────────X─\n",
       "     └───┘                                  "
      ]
     },
     "execution_count": 7,
     "metadata": {},
     "output_type": "execute_result"
    }
   ],
   "source": [
    "fQFT(3).draw()"
   ]
  },
  {
   "cell_type": "markdown",
   "metadata": {},
   "source": [
    "This function can also be used to implement the inverse transform"
   ]
  },
  {
   "cell_type": "code",
   "execution_count": 8,
   "metadata": {},
   "outputs": [
    {
     "data": {
      "text/html": [
       "<pre style=\"word-wrap: normal;white-space: pre;background: #fff0;line-height: 1.1;font-family: &quot;Courier New&quot;,Courier,monospace\">         ░ ┌───┐ ░               ░                      \n",
       "q_0: ─X──░─┤ H ├─░──■────────────░──■───────────────────\n",
       "      │  ░ └───┘ ░  │-pi/2 ┌───┐ ░  │                   \n",
       "q_1: ─┼──░───────░──■──────┤ H ├─░──┼───────■───────────\n",
       "      │  ░       ░         └───┘ ░  │-pi/4  │-pi/2 ┌───┐\n",
       "q_2: ─X──░───────░───────────────░──■───────■──────┤ H ├\n",
       "         ░       ░               ░                 └───┘</pre>"
      ],
      "text/plain": [
       "         ░ ┌───┐ ░               ░                      \n",
       "q_0: ─X──░─┤ H ├─░──■────────────░──■───────────────────\n",
       "      │  ░ └───┘ ░  │-pi/2 ┌───┐ ░  │                   \n",
       "q_1: ─┼──░───────░──■──────┤ H ├─░──┼───────■───────────\n",
       "      │  ░       ░         └───┘ ░  │-pi/4  │-pi/2 ┌───┐\n",
       "q_2: ─X──░───────░───────────────░──■───────■──────┤ H ├\n",
       "         ░       ░               ░                 └───┘"
      ]
     },
     "execution_count": 8,
     "metadata": {},
     "output_type": "execute_result"
    }
   ],
   "source": [
    "fQFT(3, insert_barriers=True, do_swaps=True, inverse=True).draw()"
   ]
  },
  {
   "cell_type": "markdown",
   "metadata": {},
   "source": [
    "Note that the final swaps at the end are due to the fact that the Fourier transform exchanges the order of the most significant bits: the most significant bit in the input is $q_0,$ while in the output (prior to the SWAP) it was $q_2.$"
   ]
  },
  {
   "cell_type": "markdown",
   "metadata": {},
   "source": [
    "**Exercise 2**"
   ]
  },
  {
   "cell_type": "markdown",
   "metadata": {},
   "source": [
    "Investigate with pen an paper the corrected circuit for the QFT. Verify for 3 qubits that, prior to the final SWAP, it implements the classical discrete Fourier transform,\n",
    "$$\\tilde{f}_n = \\frac{1}{2^{N/2}}\\sum_m f_m \\exp(-2\\pi i n m / N),$$\n",
    "with the identification $N=2^3$ and the encoding of integer numbers using the qubits\n",
    "$$n = 2^{2} q_2 + 2 q_1 + q_0$$\n",
    "$$m = 2^{2} q_0 + 2 q_1 + q_2$$"
   ]
  },
  {
   "cell_type": "markdown",
   "metadata": {},
   "source": [
    "**Exercise 3**\n",
    "\n",
    "Show, using 3 qubits, that fQFT() and fQFT(inverse=True) produce two transformations that cancel each other."
   ]
  },
  {
   "cell_type": "markdown",
   "metadata": {},
   "source": [
    "**Exercise 4**"
   ]
  },
  {
   "cell_type": "markdown",
   "metadata": {},
   "source": [
    "Use the composition of circuits, to implement the Quantum Fourier Transform of the Gaussian circuit from the previous exercise. Plot the wavefunction of the transformed state $|\\tilde{f}\\rangle.$ "
   ]
  },
  {
   "cell_type": "code",
   "execution_count": 9,
   "metadata": {},
   "outputs": [
    {
     "data": {
      "image/png": "[encoded data removed]",
      "text/plain": [
       "<Figure size 576x288 with 1 Axes>"
      ]
     },
     "metadata": {
      "needs_background": "light"
     },
     "output_type": "display_data"
    }
   ],
   "source": [
    "def exercise3():\n",
    "    l = 4 # Number of qubits\n",
    "    N = 2**l\n",
    "    L = 8\n",
    "    Δx = L/N\n",
    "    x = -L/2 + Δx * np.arange(N)\n",
    "    #\n",
    "    # The original function\n",
    "    f = normalize(np.exp(-x**2/2.0))\n",
    "    #\n",
    "    # Construct the circuit for the function 'f'\n",
    "    f_qc = StateVectorCircuit(f).construct_circuit()\n",
    "    #\n",
    "    # Construct the circuit for the Quantum Fourier Transform\n",
    "    qft_circuit = QFT(l, do_swaps=True)\n",
    "    #\n",
    "    # The QFT acts on the qubits of the circuit in the opposite\n",
    "    # order than we would like. We explicit this order when\n",
    "    # we compose the circuits\n",
    "    qft_order = list(reversed(range(0, l)))\n",
    "    #\n",
    "    Ff = f_qc.compose(qft_circuit, qubits=qft_order)\n",
    "    #\n",
    "    # We can also compute the classical fourier transform using\n",
    "    # Python's numpy library\n",
    "    DFTf = np.fft.fft(f)\n",
    "    \n",
    "    fig, ax = plt.subplots(nrows=1,ncols=1,figsize=(8,4))\n",
    "    ax.plot(x, f, '-', label='f')\n",
    "    ax.plot(x, normalize(np.abs(DFTf)), label='$\\\\tilde{f}$')\n",
    "    ax.plot(x, np.abs(wavefunction(Ff)), '.', label='$QFT$')\n",
    "    ax.set_title(f'$f$ with $N={N}$')\n",
    "    ax.legend()\n",
    "    \n",
    "exercise3()"
   ]
  },
  {
   "cell_type": "markdown",
   "metadata": {},
   "source": [
    "## Fourier Interpolation"
   ]
  },
  {
   "cell_type": "markdown",
   "metadata": {},
   "source": [
    "Music CD's work because the sound we perceive is bandwidth limited. We only need to store frequencies between 50Hz and 20kHz, which is the range of frequencies the human ear can perceive. Interestingly, when a signal is bandwidth limited, the Nyqist-Shannon interpolation theorem tells us that we can reconstruct the signal with exponential accuracy by sampling it at most at twice the maximum frequency, $2\\nu_{max}.$ This recipe is based on an interpolation method that uses the Fourier transform."
   ]
  },
  {
   "cell_type": "markdown",
   "metadata": {},
   "source": [
    "Let us assume we have a function $f(x)$ that is sampled at discrete points, with spacing $\\Delta{x}.$ We take for granted that this function is bandwidth limited, that is\n",
    "$$\\tilde{f}(k) \\simeq 0 \\mbox{ for } |k| > k_\\max$$"
   ]
  },
  {
   "cell_type": "markdown",
   "metadata": {},
   "source": [
    "This fact means that if any discretization of $f(x)$ with a grid that satisfies\n",
    "$$\\Delta{x} < \\frac{\\pi}{k_\\max}$$\n",
    "will have the same information."
   ]
  },
  {
   "cell_type": "markdown",
   "metadata": {},
   "source": [
    "In particular, if we compute a discretization of a grid with $N$ points and then with $2N$, the Fourier transforms of both discretization will have the same values within the interval $[-k_\\max, k_\\max].$ In other words, we have that the Fourier transform $f^{(2N)}$ is obtained by padding with zeros in momentum space. If the original transform was\n",
    "$$f^{(2N)} = (f^{(N)}_0,\\ldots,f^{(N)}_{N-1}),$$\n",
    "the new one is\n",
    "$$f^{(2N)} = (f^{(N)}_0,\\ldots,f^{(N)}_{(N-1)/2},0,\\ldots,0,f^{(N)}_{N/2},\\ldots,f^{(N)}_{N-1}).$$\n",
    "This way of padding is this complicated because the order of the momenta $(k_n)$ does not exactly correspond to how we interpret ($k_n'$ with signs)."
   ]
  },
  {
   "cell_type": "markdown",
   "metadata": {},
   "source": [
    "**Exercise 5**\n",
    "\n",
    "Assume that you have constructed $|\\tilde{f}^{(N)}\\rangle$ with $N=2^2$ points and 2 qubits and want to pad it to work with $2^4$ points and $4$ qubits. Show that the padding with zeros in momentum state can be constructed using control-NOT operations."
   ]
  },
  {
   "cell_type": "code",
   "execution_count": 10,
   "metadata": {},
   "outputs": [
    {
     "data": {
      "text/html": [
       "<pre style=\"word-wrap: normal;white-space: pre;background: #fff0;line-height: 1.1;font-family: &quot;Courier New&quot;,Courier,monospace\">               \n",
       "q_0: ──────────\n",
       "               \n",
       "q_1: ──■────■──\n",
       "       │  ┌─┴─┐\n",
       "q_2: ──┼──┤ X ├\n",
       "     ┌─┴─┐└───┘\n",
       "q_3: ┤ X ├─────\n",
       "     └───┘     </pre>"
      ],
      "text/plain": [
       "               \n",
       "q_0: ──────────\n",
       "               \n",
       "q_1: ──■────■──\n",
       "       │  ┌─┴─┐\n",
       "q_2: ──┼──┤ X ├\n",
       "     ┌─┴─┐└───┘\n",
       "q_3: ┤ X ├─────\n",
       "     └───┘     "
      ]
     },
     "execution_count": 10,
     "metadata": {},
     "output_type": "execute_result"
    }
   ],
   "source": [
    "aux=QuantumCircuit(4)\n",
    "aux.cx(1,3)\n",
    "aux.cx(1,2)\n",
    "aux.draw()"
   ]
  },
  {
   "cell_type": "markdown",
   "metadata": {},
   "source": [
    "Our Fourier interpolation algorithm works by computing $\\tilde{f}^{(N)},$ padding with zeros until it covers $N'=2N,$ and then Fourier transforming back from $\\tilde{f}^{(2N)}$ to obtain an estimate for $f^{(2N)}.$ This algorithm also works when $N'=4N, 8N, 16N, $ etc. For instance, the circuit to go from a discretization with 3 qubits to one with 4 would be:"
   ]
  },
  {
   "cell_type": "code",
   "execution_count": 11,
   "metadata": {},
   "outputs": [
    {
     "data": {
      "text/html": [
       "<pre style=\"word-wrap: normal;white-space: pre;background: #fff0;line-height: 1.1;font-family: &quot;Courier New&quot;,Courier,monospace\">                         ░              ░ ┌───┐ ░                            »\n",
       "q_0: ─────────────■──────░───────■──────░─┤ H ├─░──X─────────────────────────»\n",
       "                  │      ░ ┌───┐ │pi/2  ░ └───┘ ░  │                         »\n",
       "q_1: ──────■──────┼──────░─┤ H ├─■──────░───────░──┼───────────────────■─────»\n",
       "     ┌───┐ │pi/2  │pi/4  ░ └───┘        ░       ░  │                   │     »\n",
       "q_2: ┤ H ├─■──────■──────░──────────────░───────░──X───■────────■──────┼─────»\n",
       "     └───┘               ░              ░       ░    ┌─┴─┐┌───┐ │pi/2  │pi/4 »\n",
       "q_3: ────────────────────────────────────────────────┤ X ├┤ H ├─■──────■─────»\n",
       "                                                     └───┘└───┘              »\n",
       "«             ░                     ░              ░ ┌───┐ ░       \n",
       "«q_0: ─■──────░──────────────■──────░───────■──────░─┤ H ├─░──X────\n",
       "«      │      ░              │      ░ ┌───┐ │pi/2  ░ └───┘ ░  │    \n",
       "«q_1: ─┼──────░───────■──────┼──────░─┤ H ├─■──────░───────░──┼──X─\n",
       "«      │      ░ ┌───┐ │pi/2  │pi/4  ░ └───┘        ░       ░  │  │ \n",
       "«q_2: ─┼──────░─┤ H ├─■──────■──────░──────────────░───────░──┼──X─\n",
       "«      │pi/8  ░ └───┘               ░              ░       ░  │    \n",
       "«q_3: ─■──────░─────────────────────░──────────────░───────░──X────\n",
       "«             ░                     ░              ░       ░       </pre>"
      ],
      "text/plain": [
       "                         ░              ░ ┌───┐ ░                            »\n",
       "q_0: ─────────────■──────░───────■──────░─┤ H ├─░──X─────────────────────────»\n",
       "                  │      ░ ┌───┐ │pi/2  ░ └───┘ ░  │                         »\n",
       "q_1: ──────■──────┼──────░─┤ H ├─■──────░───────░──┼───────────────────■─────»\n",
       "     ┌───┐ │pi/2  │pi/4  ░ └───┘        ░       ░  │                   │     »\n",
       "q_2: ┤ H ├─■──────■──────░──────────────░───────░──X───■────────■──────┼─────»\n",
       "     └───┘               ░              ░       ░    ┌─┴─┐┌───┐ │pi/2  │pi/4 »\n",
       "q_3: ────────────────────────────────────────────────┤ X ├┤ H ├─■──────■─────»\n",
       "                                                     └───┘└───┘              »\n",
       "«             ░                     ░              ░ ┌───┐ ░       \n",
       "«q_0: ─■──────░──────────────■──────░───────■──────░─┤ H ├─░──X────\n",
       "«      │      ░              │      ░ ┌───┐ │pi/2  ░ └───┘ ░  │    \n",
       "«q_1: ─┼──────░───────■──────┼──────░─┤ H ├─■──────░───────░──┼──X─\n",
       "«      │      ░ ┌───┐ │pi/2  │pi/4  ░ └───┘        ░       ░  │  │ \n",
       "«q_2: ─┼──────░─┤ H ├─■──────■──────░──────────────░───────░──┼──X─\n",
       "«      │pi/8  ░ └───┘               ░              ░       ░  │    \n",
       "«q_3: ─■──────░─────────────────────░──────────────░───────░──X────\n",
       "«             ░                     ░              ░       ░       "
      ]
     },
     "execution_count": 11,
     "metadata": {},
     "output_type": "execute_result"
    }
   ],
   "source": [
    "steps = QuantumCircuit(4)\n",
    "steps.compose(fQFT(3, insert_barriers=True), qubits=[0,1,2], inplace=True)\n",
    "steps.cx(2,3)\n",
    "steps.compose(fQFT(4, insert_barriers=True), inplace=True)\n",
    "steps.draw()"
   ]
  },
  {
   "cell_type": "markdown",
   "metadata": {},
   "source": [
    "**Exercise 6**"
   ]
  },
  {
   "cell_type": "markdown",
   "metadata": {},
   "source": [
    "Construct a circuit for a Gaussian using 3 qubits and use the previous algorithm to interpolate it on a grid with $2^4$, $2^5$ and $2^6$ points. Compare the resulting wavefunction with the ideal one and compute the error for different widths of the Gaussian as compared to the size of the discretization interval. Use the following function as guide."
   ]
  },
  {
   "cell_type": "code",
   "execution_count": 13,
   "metadata": {},
   "outputs": [
    {
     "data": {
      "image/png": "[encoded data removed]",
      "text/plain": [
       "<Figure size 576x288 with 1 Axes>"
      ]
     },
     "metadata": {
      "needs_background": "light"
     },
     "output_type": "display_data"
    }
   ],
   "source": [
    "def exercise6():\n",
    "    l = 4 # Number of input qubits\n",
    "    N = 2**l\n",
    "    L = 8\n",
    "    Δx = L/N\n",
    "    x = -L/2 + Δx * np.arange(N)\n",
    "    \n",
    "    lfinal = l+2 # Number of qubits for interpolation\n",
    "    xfinal = -L/2 + (Δx/2**(lfinal-l)) * np.arange(2**lfinal)\n",
    "    #\n",
    "    # Our circuit (with the final number of qubits)\n",
    "    steps = QuantumCircuit(lfinal)\n",
    "    #\n",
    "    # The original function\n",
    "    f = normalize(np.exp(-x**2/2.0))\n",
    "    #\n",
    "    # The interpolated one\n",
    "    ffinal = normalize(np.exp(-xfinal**2/2.0))\n",
    "    #\n",
    "    # Construct the circuit for the function 'f'\n",
    "    f_qc = StateVectorCircuit(f).construct_circuit()\n",
    "    steps.compose(f_qc, qubits=range(0,l), inplace=True)\n",
    "    #\n",
    "    # Construct the circuit for the Quantum Fourier Transform\n",
    "    steps.compose(fQFT(l, insert_barriers=True),\n",
    "                  qubits=list(range(0, l)), inplace=True)\n",
    "    #\n",
    "    # Implement padding\n",
    "    for i in range(l, lfinal):\n",
    "        steps.cx(l-1,i)\n",
    "    #\n",
    "    # Implement the inverse transform\n",
    "    steps.compose(fQFT(lfinal, inverse=True, insert_barriers=True),\n",
    "                  inplace=True)\n",
    "    #print(steps.draw())\n",
    "    \n",
    "    fig, ax = plt.subplots(nrows=1,ncols=1,figsize=(8,4))\n",
    "    ax.plot(xfinal, ffinal, '-', label='exact')\n",
    "    ax.plot(xfinal, np.abs(wavefunction(steps)), '.', label='interpolated')\n",
    "    ax.set_title(f'Interpolate $f$ from {l} to {lfinal} qubits')\n",
    "    ax.legend()\n",
    "    \n",
    "exercise6()"
   ]
  }
 ],
 "metadata": {
  "kernelspec": {
   "display_name": "Python 3",
   "language": "python",
   "name": "python3"
  },
  "language_info": {
   "codemirror_mode": {
    "name": "ipython",
    "version": 3
   },
   "file_extension": ".py",
   "mimetype": "text/x-python",
   "name": "python",
   "nbconvert_exporter": "python",
   "pygments_lexer": "ipython3",
   "version": "3.8.5"
  }
 },
 "nbformat": 4,
 "nbformat_minor": 4
}
