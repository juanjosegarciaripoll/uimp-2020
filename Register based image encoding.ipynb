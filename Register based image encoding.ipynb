{
 "cells": [
  {
   "cell_type": "code",
   "execution_count": null,
   "metadata": {},
   "outputs": [],
   "source": [
    "import numpy as np"
   ]
  },
  {
   "cell_type": "code",
   "execution_count": null,
   "metadata": {},
   "outputs": [],
   "source": [
    "import matplotlib.pyplot as plt"
   ]
  },
  {
   "cell_type": "code",
   "execution_count": null,
   "metadata": {},
   "outputs": [],
   "source": [
    "plt.rc('font', size=16, family='serif')"
   ]
  },
  {
   "cell_type": "markdown",
   "metadata": {},
   "source": [
    "## Load a working image"
   ]
  },
  {
   "cell_type": "code",
   "execution_count": null,
   "metadata": {},
   "outputs": [],
   "source": [
    "from PIL import Image, ImageOps"
   ]
  },
  {
   "cell_type": "code",
   "execution_count": null,
   "metadata": {},
   "outputs": [],
   "source": [
    "cat = ImageOps.grayscale(Image.open('cat.png'))"
   ]
  },
  {
   "cell_type": "code",
   "execution_count": null,
   "metadata": {},
   "outputs": [],
   "source": [
    "cat"
   ]
  },
  {
   "cell_type": "markdown",
   "metadata": {},
   "source": [
    "## Convert an image to a vector of numbers"
   ]
  },
  {
   "cell_type": "markdown",
   "metadata": {},
   "source": [
    "The Pillow library allows us to see how images are encoded by the computer. We convert the image to an 2D array of integers"
   ]
  },
  {
   "cell_type": "code",
   "execution_count": null,
   "metadata": {},
   "outputs": [],
   "source": [
    "cat_array = np.asarray(cat)"
   ]
  },
  {
   "cell_type": "code",
   "execution_count": null,
   "metadata": {},
   "outputs": [],
   "source": [
    "cat_array[1,1]"
   ]
  },
  {
   "cell_type": "code",
   "execution_count": null,
   "metadata": {},
   "outputs": [],
   "source": [
    "cat_array[100,300]"
   ]
  },
  {
   "cell_type": "markdown",
   "metadata": {},
   "source": [
    "The computer representation qualifies the \"intensity\" (= whiteness) of the image as a number between 0 (black) and 255 (pure white)."
   ]
  },
  {
   "cell_type": "code",
   "execution_count": null,
   "metadata": {},
   "outputs": [],
   "source": [
    "(np.min(cat_array), np.max(cat_array))"
   ]
  },
  {
   "cell_type": "markdown",
   "metadata": {},
   "source": [
    "## Image as a state"
   ]
  },
  {
   "cell_type": "markdown",
   "metadata": {},
   "source": [
    "We can convert this representation into a pure state. We just need to collect all numbers into a vector and normalize it,\n",
    "$$|\\psi\\rangle = \\frac{1}{\\sqrt{I_T}}\\sum_s \\sqrt{I(s)}|s\\rangle.$$\n",
    "Here \"s\" is an index, an integer between 0 and L-1, where L is the total size of the array."
   ]
  },
  {
   "cell_type": "code",
   "execution_count": null,
   "metadata": {},
   "outputs": [],
   "source": [
    "cat_I = cat_array.flatten()+0.0\n",
    "cat_ψ = np.sqrt(cat_I)/np.sqrt(np.sum(cat_I))"
   ]
  },
  {
   "cell_type": "code",
   "execution_count": null,
   "metadata": {},
   "outputs": [],
   "source": [
    "np.linalg.norm(cat_ψ)"
   ]
  },
  {
   "cell_type": "markdown",
   "metadata": {},
   "source": [
    "## Ordering of qubits"
   ]
  },
  {
   "cell_type": "markdown",
   "metadata": {},
   "source": [
    "The image we have constructed uses an integer $s=(s_1,s_2,\\ldots,s_N)$ which can be decomposed into bits $s_i\\in\\{0,1\\}.$ In our particular example, with 512x512 pixels, we only need $N=9+9=18$ bits\n",
    "$$s = s_1 2^{17} + s_2 2^{16} + \\ldots + s_{18}$$"
   ]
  },
  {
   "cell_type": "markdown",
   "metadata": {},
   "source": [
    "In this ordering, we scan the image by rows and $(s_1,s_2,\\ldots,s_{N/2})$ represent the indices of the row and $(s_{N/2+1},\\ldots,s_N)$ form a binary number for the column."
   ]
  },
  {
   "cell_type": "markdown",
   "metadata": {},
   "source": [
    "We could create a different order, $(s^{row}_1,s^{col}_1,s^{row}_2,s^{row}_2,\\ldots)$ that orders the bits by relevance or length-scale they describe. It uses two Python tricks\n",
    "\n",
    "- It reshapes our quantum state as an array with $N$ indices, each of size 2.\n",
    "- It then permutes the indices of the array\n",
    "- And finally converts the array into a flat, 1D arrangement of numbers"
   ]
  },
  {
   "cell_type": "code",
   "execution_count": null,
   "metadata": {},
   "outputs": [],
   "source": [
    "def order_by_size(ψ, q):\n",
    "    size = [2 for i in range(2*q)]\n",
    "    ndx = [i + j for i in range(q) for j in [0, q]]\n",
    "    return ψ.reshape(size).transpose(ndx)"
   ]
  },
  {
   "cell_type": "markdown",
   "metadata": {},
   "source": [
    "This function undoes the previous transformation"
   ]
  },
  {
   "cell_type": "code",
   "execution_count": null,
   "metadata": {},
   "outputs": [],
   "source": [
    "def order_by_dimension(ψ, q):\n",
    "    size = [2 for i in range(2*q)]\n",
    "    ndx = [2*i + j for j in [0,1] for i in range(q)]\n",
    "    return ψ.reshape(size).transpose(ndx)"
   ]
  },
  {
   "cell_type": "markdown",
   "metadata": {},
   "source": [
    "## Image conversions"
   ]
  },
  {
   "cell_type": "markdown",
   "metadata": {},
   "source": [
    "We can now write a better function, that converts a generic image to a quantum state, but allows us to choose the ordering."
   ]
  },
  {
   "cell_type": "code",
   "execution_count": null,
   "metadata": {},
   "outputs": [],
   "source": [
    "def image2state(image, reorder=True):\n",
    "    \n",
    "    # Convert image to an array\n",
    "    image = ImageOps.grayscale(image)\n",
    "    image_I = np.asarray(image)\n",
    "    \n",
    "    # Reshape to fit some qubit size, the same for both dimensions\n",
    "    L1, L2 = image_I.shape\n",
    "    q1 = int(round(np.log2(L1)))\n",
    "    q2 = int(round(np.log2(L2)))\n",
    "    q = max(q1, q2)\n",
    "    L = 2**q\n",
    "    new_I = np.zeros((L, L), dtype=np.float64)\n",
    "    new_I[0:L1,0:L2] = image_I\n",
    "    \n",
    "    I_t = np.sum(new_I.flatten())\n",
    "    ψ = np.sqrt(new_I.flatten())/np.sqrt(I_t)\n",
    "    \n",
    "    if reorder:\n",
    "        ψ = order_by_size(ψ, q)\n",
    "    \n",
    "    return ψ"
   ]
  },
  {
   "cell_type": "markdown",
   "metadata": {},
   "source": [
    "And we can even take a quantum state and convert it into an image. We assume a square image with the same number of qubits along both dimensions."
   ]
  },
  {
   "cell_type": "code",
   "execution_count": null,
   "metadata": {},
   "outputs": [],
   "source": [
    "def intensity2image(I):\n",
    "    I = np.uint8(np.round(I/np.max(I) * 255.0))\n",
    "    return Image.fromarray(I)"
   ]
  },
  {
   "cell_type": "code",
   "execution_count": null,
   "metadata": {},
   "outputs": [],
   "source": [
    "def state2image(ψ, reorder=True):\n",
    "    q = int(round(np.log2(ψ.size))) // 2\n",
    "    L = 2**q\n",
    "    if reorder:\n",
    "        ψ = order_by_dimension(ψ, q)\n",
    "    return intensity2image(np.abs(ψ*ψ).reshape((L,L)))"
   ]
  },
  {
   "cell_type": "code",
   "execution_count": null,
   "metadata": {
    "scrolled": false
   },
   "outputs": [],
   "source": [
    "state2image(image2state(cat, reorder=True), reorder=True)"
   ]
  },
  {
   "cell_type": "markdown",
   "metadata": {},
   "source": [
    "## Trace out qubits from image"
   ]
  },
  {
   "cell_type": "markdown",
   "metadata": {},
   "source": [
    "When we eliminate a qubit from an image, we obtain a density matrix. We start with the initial state\n",
    "$$|\\psi\\rangle = \\sum_s \\psi_s |s\\rangle,$$\n",
    "where $s=s_1s_2\\cdots s_N$ is a binary number with all qubits."
   ]
  },
  {
   "cell_type": "markdown",
   "metadata": {},
   "source": [
    "We now separate into the qubits we keep $r=s_1s_2\\cdots s_M$ and the ones we eliminate $u=s_{M+1}\\cdots s_N.$\n",
    "$$|\\psi\\rangle = \\sum_s \\psi_{r,u}|r\\rangle|u\\rangle.$$\n",
    "This is just a relabelling."
   ]
  },
  {
   "cell_type": "markdown",
   "metadata": {},
   "source": [
    "We construct the density matrix\n",
    "$$\\rho = \\sum_{r,r'} \\rho(r,r') |r\\rangle\\langle r'|$$\n",
    "with the elimination of the \"traced out\" degrees of freedom\n",
    "$$\\rho(r,r') = \\sum_{u} \\psi_{r,u} \\psi_{r',u}^*.$$"
   ]
  },
  {
   "cell_type": "markdown",
   "metadata": {},
   "source": [
    "As before, we interpret $I(r),$ the intensity of our image, as the probability of excitation. However, because now we have a density matrix, the intensity appears on the diagonal of the matrix\n",
    "$$I(r) \\propto \\rho(r,r).$$"
   ]
  },
  {
   "cell_type": "markdown",
   "metadata": {},
   "source": [
    "The following function does this. It returns an image (not a state) with the resampled information."
   ]
  },
  {
   "cell_type": "code",
   "execution_count": null,
   "metadata": {},
   "outputs": [],
   "source": [
    "def resample(ψ, nqubits=None, reorder=True):\n",
    "    q = int(np.round(np.log2(ψ.size)))\n",
    "    if nqubits is None:\n",
    "        nqubits = q-2\n",
    "    elif nqubits < 0:\n",
    "        nqubits = q + nqubits\n",
    "    \n",
    "    L1 = 2**nqubits\n",
    "    L2 = ψ.size // L1\n",
    "    \n",
    "    #\n",
    "    # We are now going to extract the diagonal of\n",
    "    # the reduced density matrix, and output it as a\n",
    "    # new image\n",
    "    if True:\n",
    "        I = np.einsum('kii->k',\n",
    "                      ψ.reshape((L1, L2, 1)) * ψ.conj().reshape(L1, 1, L2))\n",
    "    else:\n",
    "        # This is very slow and consumes a lot of memory\n",
    "        ρ = ψ.reshape((L1,L2)) @ ψ.reshape((L1,L2)).T.conj()\n",
    "        I = np.diag(ρ)\n",
    "\n",
    "    # We may need to undo the ordering of qubits\n",
    "    I = order_by_dimension(I, nqubits//2)\n",
    "        \n",
    "    # Intensity is now a vector. We have to rearrange it into\n",
    "    # a square matrix for converting it to an image\n",
    "    L = 2**(nqubits//2)\n",
    "    return intensity2image(I.reshape((L,L)))"
   ]
  },
  {
   "cell_type": "code",
   "execution_count": null,
   "metadata": {
    "scrolled": false
   },
   "outputs": [],
   "source": [
    "resample(image2state(cat), -2)"
   ]
  },
  {
   "cell_type": "code",
   "execution_count": null,
   "metadata": {},
   "outputs": [],
   "source": [
    "resample(image2state(cat), -4)"
   ]
  },
  {
   "cell_type": "code",
   "execution_count": null,
   "metadata": {},
   "outputs": [],
   "source": [
    "resample(image2state(cat), -6)"
   ]
  },
  {
   "cell_type": "code",
   "execution_count": null,
   "metadata": {
    "scrolled": false
   },
   "outputs": [],
   "source": [
    "resample(image2state(cat), -8)"
   ]
  },
  {
   "cell_type": "markdown",
   "metadata": {},
   "source": [
    "## Enlarge image without interpolation"
   ]
  },
  {
   "cell_type": "markdown",
   "metadata": {},
   "source": [
    "We can play a similar trick, to make an image from $L\\times L$ to $2^{n}L\\times 2^{n}L$ pixels, by adding $n$ empty qubits to an existing image.\n",
    "\n",
    "In other words, we go from\n",
    "$$|\\psi\\rangle = \\sum_s \\psi_s |s\\rangle$$\n",
    "to this trivial expansion\n",
    "$$|\\psi'\\rangle = \\sum_s  \\psi_s |s,0,0,\\ldots, 0\\rangle.$$\n",
    "\n",
    "This works if we are using the size-based order!"
   ]
  },
  {
   "cell_type": "code",
   "execution_count": null,
   "metadata": {},
   "outputs": [],
   "source": [
    "def enlarge(ψ, nqb):\n",
    "    \n",
    "    ψ = ψ.reshape((ψ.size,1)) * np.ones((1,2**nqb))\n",
    "    ψ = ψ.flatten()\n",
    "    return ψ / np.linalg.norm(ψ)"
   ]
  },
  {
   "cell_type": "code",
   "execution_count": null,
   "metadata": {
    "scrolled": false
   },
   "outputs": [],
   "source": [
    "state2image(enlarge(image2state(resample(image2state(cat), -8)), 8))"
   ]
  },
  {
   "cell_type": "markdown",
   "metadata": {},
   "source": [
    "##  Same, but Gaussians"
   ]
  },
  {
   "cell_type": "code",
   "execution_count": null,
   "metadata": {},
   "outputs": [],
   "source": [
    "def Gaussian(nqb, σ=0.1, reorder=True):\n",
    "    \n",
    "    x = np.linspace(-1, 1, 2**nqb)\n",
    "    f = np.exp(-0.5 * (x/σ)**2)\n",
    "    f /= np.linalg.norm(f)\n",
    "    \n",
    "    ψ = f.reshape((1,2**nqb)) * f.reshape((2**nqb,1))\n",
    "    \n",
    "    if reorder:\n",
    "        ψ = order_by_size(ψ, nqb)\n",
    "    \n",
    "    return ψ / np.linalg.norm(ψ.flatten())"
   ]
  },
  {
   "cell_type": "code",
   "execution_count": null,
   "metadata": {},
   "outputs": [],
   "source": [
    "aux = state2image(Gaussian(9, 0.2))"
   ]
  },
  {
   "cell_type": "code",
   "execution_count": null,
   "metadata": {
    "scrolled": false
   },
   "outputs": [],
   "source": [
    "aux"
   ]
  },
  {
   "cell_type": "code",
   "execution_count": null,
   "metadata": {
    "scrolled": true
   },
   "outputs": [],
   "source": [
    "resample(image2state(aux), -2)"
   ]
  },
  {
   "cell_type": "code",
   "execution_count": null,
   "metadata": {},
   "outputs": [],
   "source": [
    "resample(image2state(aux), -4)"
   ]
  },
  {
   "cell_type": "code",
   "execution_count": null,
   "metadata": {},
   "outputs": [],
   "source": [
    "resample(image2state(aux), -6)"
   ]
  },
  {
   "cell_type": "code",
   "execution_count": null,
   "metadata": {
    "scrolled": true
   },
   "outputs": [],
   "source": [
    "resample(image2state(aux), -8)"
   ]
  },
  {
   "cell_type": "code",
   "execution_count": null,
   "metadata": {
    "scrolled": false
   },
   "outputs": [],
   "source": [
    "state2image(enlarge(image2state(resample(image2state(aux), -8)), 8))"
   ]
  },
  {
   "cell_type": "markdown",
   "metadata": {},
   "source": [
    "## Schmidt decompositions"
   ]
  },
  {
   "cell_type": "markdown",
   "metadata": {},
   "source": [
    "When we create a quantum state, we may need more or less quantum operations, depending on how \"complex\" the state is. One way to understand this complexity is to study the entanglement through \"Schmidt decompositions.\""
   ]
  },
  {
   "cell_type": "markdown",
   "metadata": {},
   "source": [
    "A Schmidt decomposition for a state with N qubits is a splitting of the many-qubit state into two groups, one with L qubits and one with R=N-L. Typically, these splittings are done \"in order\" and we talk about \"left\" and \"right\" qubits."
   ]
  },
  {
   "cell_type": "markdown",
   "metadata": {},
   "source": [
    "Once we have this regrouping, we wonder how we can transform the state\n",
    "$$|\\psi\\rangle = \\sum_s \\psi(s_1,\\ldots s_N) |s_1\\ldots s_L\\rangle|s_{L+1}\\ldots s_N\\rangle$$\n",
    "into a quantum superposition\n",
    "$$|\\psi\\rangle = \\sum_i \\sqrt{\\lambda_i} |\\phi_i\\rangle|\\xi_i\\rangle,$$\n",
    "where $\\phi$ and $\\xi$ are states for the L (left) and R (right qubits). We also want this decomposition to be optimal, with the smallest number of states."
   ]
  },
  {
   "cell_type": "markdown",
   "metadata": {},
   "source": [
    "The following function computes the Schmidt numbers $\\lambda_i$ using a trick called the Singular Value Decomposition (SVD). We do the same splitting as before, rewriting the vector as a matrix\n",
    "$$\\psi(s) \\to \\psi(l, r)$$\n",
    "where $l$ are the bits for the \"left\" and $r$ the bits for the right indices. We finally decompose\n",
    "$$\\psi(l,r) = \\Phi \\Lambda^{1/2} \\Xi^T$$\n",
    "where $\\Lambda_{ii} = \\lambda_i$ is a diagonal matrix of Singular Values, and $\\Phi$ and $\\Xi$ are unitary matrices that contain (as columns) the decompositions of $\\phi_i$ and $\\xi_i.$"
   ]
  },
  {
   "cell_type": "code",
   "execution_count": null,
   "metadata": {},
   "outputs": [],
   "source": [
    "def Schmidt(ψ, qubits_left=1):\n",
    "    Lleft = 2**qubits_left\n",
    "    Lright = ψ.size // Lleft\n",
    "    ψ = ψ / np.linalg.norm(ψ)\n",
    "    A = ψ.reshape((Lleft, Lright))\n",
    "    \n",
    "    Φ, sqrtΛ, Ξ = np.linalg.svd(A)\n",
    "    return (sqrtΛ)**2"
   ]
  },
  {
   "cell_type": "markdown",
   "metadata": {},
   "source": [
    "The following plot shows that the cat state has many more states participating into the superposition, because it has a large collection of states (with small weights, $10^{-3}-10^{-6}$) required to encode the details of the image. The Gaussian, on the other hand, is a much simpler structure"
   ]
  },
  {
   "cell_type": "code",
   "execution_count": null,
   "metadata": {
    "scrolled": true
   },
   "outputs": [],
   "source": [
    "ψGaus = Gaussian(9, 0.2)\n",
    "ψcat = image2state(cat)\n",
    "\n",
    "fig, ax = plt.subplots()\n",
    "ax.plot(Schmidt(ψcat, 9), label='cat')\n",
    "ax.plot(Schmidt(ψGaus, 9), label='Gaussian')\n",
    "ax.set_ylabel('$\\\\lambda_i$')\n",
    "ax.set_xlabel('#eigenvalue')\n",
    "ax.set_yscale('log')\n",
    "ax.set_ylim([1e-12,1.2])\n",
    "ax.legend();"
   ]
  },
  {
   "cell_type": "markdown",
   "metadata": {},
   "source": [
    "## Exercises"
   ]
  },
  {
   "cell_type": "markdown",
   "metadata": {},
   "source": [
    "**Exercise 1**"
   ]
  },
  {
   "cell_type": "markdown",
   "metadata": {},
   "source": [
    "Download a different image from the internet. Perform a similar study, comparing also the distribution of states in the Schmidt decomposition above."
   ]
  },
  {
   "cell_type": "markdown",
   "metadata": {},
   "source": [
    "**Exercise 2**"
   ]
  },
  {
   "cell_type": "markdown",
   "metadata": {},
   "source": [
    "Instead of adding zeros, investigate what happens when you add qubits in a random state."
   ]
  },
  {
   "cell_type": "markdown",
   "metadata": {},
   "source": [
    "**Exercise 3**"
   ]
  },
  {
   "cell_type": "markdown",
   "metadata": {},
   "source": [
    "Investigate the type of entanglement required to represent other mathematical functions."
   ]
  },
  {
   "cell_type": "markdown",
   "metadata": {},
   "source": [
    "**Exercise 4**"
   ]
  },
  {
   "cell_type": "markdown",
   "metadata": {},
   "source": [
    "Using Qiskit, find out the quantum circuit required to encode a simple image, such as the Gaussian as represented by 3+3 qubits."
   ]
  }
 ],
 "metadata": {
  "kernelspec": {
   "display_name": "Python 3",
   "language": "python",
   "name": "python3"
  },
  "language_info": {
   "codemirror_mode": {
    "name": "ipython",
    "version": 3
   },
   "file_extension": ".py",
   "mimetype": "text/x-python",
   "name": "python",
   "nbconvert_exporter": "python",
   "pygments_lexer": "ipython3",
   "version": "3.7.7"
  }
 },
 "nbformat": 4,
 "nbformat_minor": 4
}
